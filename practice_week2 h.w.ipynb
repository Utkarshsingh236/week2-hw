{
 "cells": [
  {
   "cell_type": "markdown",
   "id": "7f00d558",
   "metadata": {},
   "source": [
    "###  H.W"
   ]
  },
  {
   "cell_type": "code",
   "execution_count": 5,
   "id": "9b0ae8ee",
   "metadata": {},
   "outputs": [],
   "source": [
    "import numpy as np\n",
    "import pandas as pd\n",
    "import matplotlib.pyplot as plt\n",
    "%matplotlib inline\n",
    "import seaborn as sns"
   ]
  },
  {
   "cell_type": "code",
   "execution_count": 6,
   "id": "57b702e1",
   "metadata": {},
   "outputs": [],
   "source": [
    "df=pd.read_csv('./AB_NYC_2019.csv')"
   ]
  },
  {
   "cell_type": "code",
   "execution_count": 7,
   "id": "72acc155",
   "metadata": {},
   "outputs": [],
   "source": [
    "columns=df.dtypes[df.dtypes=='object'].index"
   ]
  },
  {
   "cell_type": "markdown",
   "id": "d8bbc436",
   "metadata": {},
   "source": [
    "##  data cleaning"
   ]
  },
  {
   "cell_type": "code",
   "execution_count": 8,
   "id": "836e4388",
   "metadata": {},
   "outputs": [],
   "source": [
    "for col in columns:\n",
    "    df[col]=df[col].str.lower().str.replace(' ','_')"
   ]
  },
  {
   "cell_type": "code",
   "execution_count": 9,
   "id": "061855c3",
   "metadata": {
    "scrolled": false
   },
   "outputs": [
    {
     "data": {
      "text/html": [
       "<div>\n",
       "<style scoped>\n",
       "    .dataframe tbody tr th:only-of-type {\n",
       "        vertical-align: middle;\n",
       "    }\n",
       "\n",
       "    .dataframe tbody tr th {\n",
       "        vertical-align: top;\n",
       "    }\n",
       "\n",
       "    .dataframe thead th {\n",
       "        text-align: right;\n",
       "    }\n",
       "</style>\n",
       "<table border=\"1\" class=\"dataframe\">\n",
       "  <thead>\n",
       "    <tr style=\"text-align: right;\">\n",
       "      <th></th>\n",
       "      <th>id</th>\n",
       "      <th>name</th>\n",
       "      <th>host_id</th>\n",
       "      <th>host_name</th>\n",
       "      <th>neighbourhood_group</th>\n",
       "      <th>neighbourhood</th>\n",
       "      <th>latitude</th>\n",
       "      <th>longitude</th>\n",
       "      <th>room_type</th>\n",
       "      <th>price</th>\n",
       "      <th>minimum_nights</th>\n",
       "      <th>number_of_reviews</th>\n",
       "      <th>last_review</th>\n",
       "      <th>reviews_per_month</th>\n",
       "      <th>calculated_host_listings_count</th>\n",
       "      <th>availability_365</th>\n",
       "    </tr>\n",
       "  </thead>\n",
       "  <tbody>\n",
       "    <tr>\n",
       "      <th>0</th>\n",
       "      <td>2539</td>\n",
       "      <td>clean_&amp;_quiet_apt_home_by_the_park</td>\n",
       "      <td>2787</td>\n",
       "      <td>john</td>\n",
       "      <td>brooklyn</td>\n",
       "      <td>kensington</td>\n",
       "      <td>40.64749</td>\n",
       "      <td>-73.97237</td>\n",
       "      <td>private_room</td>\n",
       "      <td>149</td>\n",
       "      <td>1</td>\n",
       "      <td>9</td>\n",
       "      <td>2018-10-19</td>\n",
       "      <td>0.21</td>\n",
       "      <td>6</td>\n",
       "      <td>365</td>\n",
       "    </tr>\n",
       "    <tr>\n",
       "      <th>1</th>\n",
       "      <td>2595</td>\n",
       "      <td>skylit_midtown_castle</td>\n",
       "      <td>2845</td>\n",
       "      <td>jennifer</td>\n",
       "      <td>manhattan</td>\n",
       "      <td>midtown</td>\n",
       "      <td>40.75362</td>\n",
       "      <td>-73.98377</td>\n",
       "      <td>entire_home/apt</td>\n",
       "      <td>225</td>\n",
       "      <td>1</td>\n",
       "      <td>45</td>\n",
       "      <td>2019-05-21</td>\n",
       "      <td>0.38</td>\n",
       "      <td>2</td>\n",
       "      <td>355</td>\n",
       "    </tr>\n",
       "    <tr>\n",
       "      <th>2</th>\n",
       "      <td>3647</td>\n",
       "      <td>the_village_of_harlem....new_york_!</td>\n",
       "      <td>4632</td>\n",
       "      <td>elisabeth</td>\n",
       "      <td>manhattan</td>\n",
       "      <td>harlem</td>\n",
       "      <td>40.80902</td>\n",
       "      <td>-73.94190</td>\n",
       "      <td>private_room</td>\n",
       "      <td>150</td>\n",
       "      <td>3</td>\n",
       "      <td>0</td>\n",
       "      <td>NaN</td>\n",
       "      <td>NaN</td>\n",
       "      <td>1</td>\n",
       "      <td>365</td>\n",
       "    </tr>\n",
       "    <tr>\n",
       "      <th>3</th>\n",
       "      <td>3831</td>\n",
       "      <td>cozy_entire_floor_of_brownstone</td>\n",
       "      <td>4869</td>\n",
       "      <td>lisaroxanne</td>\n",
       "      <td>brooklyn</td>\n",
       "      <td>clinton_hill</td>\n",
       "      <td>40.68514</td>\n",
       "      <td>-73.95976</td>\n",
       "      <td>entire_home/apt</td>\n",
       "      <td>89</td>\n",
       "      <td>1</td>\n",
       "      <td>270</td>\n",
       "      <td>2019-07-05</td>\n",
       "      <td>4.64</td>\n",
       "      <td>1</td>\n",
       "      <td>194</td>\n",
       "    </tr>\n",
       "    <tr>\n",
       "      <th>4</th>\n",
       "      <td>5022</td>\n",
       "      <td>entire_apt:_spacious_studio/loft_by_central_park</td>\n",
       "      <td>7192</td>\n",
       "      <td>laura</td>\n",
       "      <td>manhattan</td>\n",
       "      <td>east_harlem</td>\n",
       "      <td>40.79851</td>\n",
       "      <td>-73.94399</td>\n",
       "      <td>entire_home/apt</td>\n",
       "      <td>80</td>\n",
       "      <td>10</td>\n",
       "      <td>9</td>\n",
       "      <td>2018-11-19</td>\n",
       "      <td>0.10</td>\n",
       "      <td>1</td>\n",
       "      <td>0</td>\n",
       "    </tr>\n",
       "    <tr>\n",
       "      <th>...</th>\n",
       "      <td>...</td>\n",
       "      <td>...</td>\n",
       "      <td>...</td>\n",
       "      <td>...</td>\n",
       "      <td>...</td>\n",
       "      <td>...</td>\n",
       "      <td>...</td>\n",
       "      <td>...</td>\n",
       "      <td>...</td>\n",
       "      <td>...</td>\n",
       "      <td>...</td>\n",
       "      <td>...</td>\n",
       "      <td>...</td>\n",
       "      <td>...</td>\n",
       "      <td>...</td>\n",
       "      <td>...</td>\n",
       "    </tr>\n",
       "    <tr>\n",
       "      <th>48890</th>\n",
       "      <td>36484665</td>\n",
       "      <td>charming_one_bedroom_-_newly_renovated_rowhouse</td>\n",
       "      <td>8232441</td>\n",
       "      <td>sabrina</td>\n",
       "      <td>brooklyn</td>\n",
       "      <td>bedford-stuyvesant</td>\n",
       "      <td>40.67853</td>\n",
       "      <td>-73.94995</td>\n",
       "      <td>private_room</td>\n",
       "      <td>70</td>\n",
       "      <td>2</td>\n",
       "      <td>0</td>\n",
       "      <td>NaN</td>\n",
       "      <td>NaN</td>\n",
       "      <td>2</td>\n",
       "      <td>9</td>\n",
       "    </tr>\n",
       "    <tr>\n",
       "      <th>48891</th>\n",
       "      <td>36485057</td>\n",
       "      <td>affordable_room_in_bushwick/east_williamsburg</td>\n",
       "      <td>6570630</td>\n",
       "      <td>marisol</td>\n",
       "      <td>brooklyn</td>\n",
       "      <td>bushwick</td>\n",
       "      <td>40.70184</td>\n",
       "      <td>-73.93317</td>\n",
       "      <td>private_room</td>\n",
       "      <td>40</td>\n",
       "      <td>4</td>\n",
       "      <td>0</td>\n",
       "      <td>NaN</td>\n",
       "      <td>NaN</td>\n",
       "      <td>2</td>\n",
       "      <td>36</td>\n",
       "    </tr>\n",
       "    <tr>\n",
       "      <th>48892</th>\n",
       "      <td>36485431</td>\n",
       "      <td>sunny_studio_at_historical_neighborhood</td>\n",
       "      <td>23492952</td>\n",
       "      <td>ilgar_&amp;_aysel</td>\n",
       "      <td>manhattan</td>\n",
       "      <td>harlem</td>\n",
       "      <td>40.81475</td>\n",
       "      <td>-73.94867</td>\n",
       "      <td>entire_home/apt</td>\n",
       "      <td>115</td>\n",
       "      <td>10</td>\n",
       "      <td>0</td>\n",
       "      <td>NaN</td>\n",
       "      <td>NaN</td>\n",
       "      <td>1</td>\n",
       "      <td>27</td>\n",
       "    </tr>\n",
       "    <tr>\n",
       "      <th>48893</th>\n",
       "      <td>36485609</td>\n",
       "      <td>43rd_st._time_square-cozy_single_bed</td>\n",
       "      <td>30985759</td>\n",
       "      <td>taz</td>\n",
       "      <td>manhattan</td>\n",
       "      <td>hell's_kitchen</td>\n",
       "      <td>40.75751</td>\n",
       "      <td>-73.99112</td>\n",
       "      <td>shared_room</td>\n",
       "      <td>55</td>\n",
       "      <td>1</td>\n",
       "      <td>0</td>\n",
       "      <td>NaN</td>\n",
       "      <td>NaN</td>\n",
       "      <td>6</td>\n",
       "      <td>2</td>\n",
       "    </tr>\n",
       "    <tr>\n",
       "      <th>48894</th>\n",
       "      <td>36487245</td>\n",
       "      <td>trendy_duplex_in_the_very_heart_of_hell's_kitchen</td>\n",
       "      <td>68119814</td>\n",
       "      <td>christophe</td>\n",
       "      <td>manhattan</td>\n",
       "      <td>hell's_kitchen</td>\n",
       "      <td>40.76404</td>\n",
       "      <td>-73.98933</td>\n",
       "      <td>private_room</td>\n",
       "      <td>90</td>\n",
       "      <td>7</td>\n",
       "      <td>0</td>\n",
       "      <td>NaN</td>\n",
       "      <td>NaN</td>\n",
       "      <td>1</td>\n",
       "      <td>23</td>\n",
       "    </tr>\n",
       "  </tbody>\n",
       "</table>\n",
       "<p>48895 rows × 16 columns</p>\n",
       "</div>"
      ],
      "text/plain": [
       "             id                                               name   host_id  \\\n",
       "0          2539                 clean_&_quiet_apt_home_by_the_park      2787   \n",
       "1          2595                              skylit_midtown_castle      2845   \n",
       "2          3647                the_village_of_harlem....new_york_!      4632   \n",
       "3          3831                    cozy_entire_floor_of_brownstone      4869   \n",
       "4          5022   entire_apt:_spacious_studio/loft_by_central_park      7192   \n",
       "...         ...                                                ...       ...   \n",
       "48890  36484665    charming_one_bedroom_-_newly_renovated_rowhouse   8232441   \n",
       "48891  36485057      affordable_room_in_bushwick/east_williamsburg   6570630   \n",
       "48892  36485431            sunny_studio_at_historical_neighborhood  23492952   \n",
       "48893  36485609               43rd_st._time_square-cozy_single_bed  30985759   \n",
       "48894  36487245  trendy_duplex_in_the_very_heart_of_hell's_kitchen  68119814   \n",
       "\n",
       "           host_name neighbourhood_group       neighbourhood  latitude  \\\n",
       "0               john            brooklyn          kensington  40.64749   \n",
       "1           jennifer           manhattan             midtown  40.75362   \n",
       "2          elisabeth           manhattan              harlem  40.80902   \n",
       "3        lisaroxanne            brooklyn        clinton_hill  40.68514   \n",
       "4              laura           manhattan         east_harlem  40.79851   \n",
       "...              ...                 ...                 ...       ...   \n",
       "48890        sabrina            brooklyn  bedford-stuyvesant  40.67853   \n",
       "48891        marisol            brooklyn            bushwick  40.70184   \n",
       "48892  ilgar_&_aysel           manhattan              harlem  40.81475   \n",
       "48893            taz           manhattan      hell's_kitchen  40.75751   \n",
       "48894     christophe           manhattan      hell's_kitchen  40.76404   \n",
       "\n",
       "       longitude        room_type  price  minimum_nights  number_of_reviews  \\\n",
       "0      -73.97237     private_room    149               1                  9   \n",
       "1      -73.98377  entire_home/apt    225               1                 45   \n",
       "2      -73.94190     private_room    150               3                  0   \n",
       "3      -73.95976  entire_home/apt     89               1                270   \n",
       "4      -73.94399  entire_home/apt     80              10                  9   \n",
       "...          ...              ...    ...             ...                ...   \n",
       "48890  -73.94995     private_room     70               2                  0   \n",
       "48891  -73.93317     private_room     40               4                  0   \n",
       "48892  -73.94867  entire_home/apt    115              10                  0   \n",
       "48893  -73.99112      shared_room     55               1                  0   \n",
       "48894  -73.98933     private_room     90               7                  0   \n",
       "\n",
       "      last_review  reviews_per_month  calculated_host_listings_count  \\\n",
       "0      2018-10-19               0.21                               6   \n",
       "1      2019-05-21               0.38                               2   \n",
       "2             NaN                NaN                               1   \n",
       "3      2019-07-05               4.64                               1   \n",
       "4      2018-11-19               0.10                               1   \n",
       "...           ...                ...                             ...   \n",
       "48890         NaN                NaN                               2   \n",
       "48891         NaN                NaN                               2   \n",
       "48892         NaN                NaN                               1   \n",
       "48893         NaN                NaN                               6   \n",
       "48894         NaN                NaN                               1   \n",
       "\n",
       "       availability_365  \n",
       "0                   365  \n",
       "1                   355  \n",
       "2                   365  \n",
       "3                   194  \n",
       "4                     0  \n",
       "...                 ...  \n",
       "48890                 9  \n",
       "48891                36  \n",
       "48892                27  \n",
       "48893                 2  \n",
       "48894                23  \n",
       "\n",
       "[48895 rows x 16 columns]"
      ]
     },
     "execution_count": 9,
     "metadata": {},
     "output_type": "execute_result"
    }
   ],
   "source": [
    "df"
   ]
  },
  {
   "cell_type": "code",
   "execution_count": 129,
   "id": "f830fe8d",
   "metadata": {},
   "outputs": [
    {
     "data": {
      "text/plain": [
       "48895"
      ]
     },
     "execution_count": 129,
     "metadata": {},
     "output_type": "execute_result"
    }
   ],
   "source": [
    "np.random.seed(42)\n",
    "n=len(df)\n",
    "n"
   ]
  },
  {
   "cell_type": "code",
   "execution_count": 130,
   "id": "a892117c",
   "metadata": {},
   "outputs": [],
   "source": [
    "n_val=int(n*0.2)\n",
    "n_test=int(n*0.2)\n",
    "n_train=n-n_val-n_test\n"
   ]
  },
  {
   "cell_type": "code",
   "execution_count": 131,
   "id": "fdf61596",
   "metadata": {},
   "outputs": [],
   "source": [
    "idx=np.arange(n)\n",
    "np.random.shuffle(idx)\n",
    "idx\n",
    "df_shuffled=df.iloc[idx]\n",
    "df_train = df_shuffled.iloc[:n_train].copy()\n",
    "df_val = df_shuffled.iloc[n_train:n_train+n_val].copy()\n",
    "df_test = df_shuffled.iloc[n_train+n_val:].copy()\n",
    "\n",
    "\n",
    "y_train_orig = df_train.price.values\n",
    "y_val_orig = df_val.price.values\n",
    "y_test_orig = df_test.price.values\n",
    "\n",
    "y_train = np.log1p(df_train.price.values)\n",
    "y_val = np.log1p(df_val.price.values)\n",
    "y_test = np.log1p(df_test.price.values)\n",
    "\n",
    "del df_train['price']\n",
    "del df_val['price']\n",
    "del df_test['price']\n"
   ]
  },
  {
   "cell_type": "markdown",
   "id": "2de1b7ba",
   "metadata": {},
   "source": [
    "#  EDA"
   ]
  },
  {
   "cell_type": "markdown",
   "id": "1b36d3fa",
   "metadata": {},
   "source": [
    "###  it has long tail ,so we take log of it to avoid it.\n",
    "for safer side we all add 1 in log "
   ]
  },
  {
   "cell_type": "code",
   "execution_count": 132,
   "id": "6358acb4",
   "metadata": {},
   "outputs": [
    {
     "data": {
      "text/plain": [
       "<AxesSubplot:xlabel='price', ylabel='Count'>"
      ]
     },
     "execution_count": 132,
     "metadata": {},
     "output_type": "execute_result"
    },
    {
     "data": {
      "image/png": "[encoded data removed]",
      "text/plain": [
       "<Figure size 432x288 with 1 Axes>"
      ]
     },
     "metadata": {
      "needs_background": "light"
     },
     "output_type": "display_data"
    }
   ],
   "source": [
    "sns.histplot(df[df.price<1000].price,bins=50,color='violet',alpha=1)"
   ]
  },
  {
   "cell_type": "code",
   "execution_count": 133,
   "id": "dad2306f",
   "metadata": {},
   "outputs": [
    {
     "data": {
      "text/plain": [
       "<AxesSubplot:xlabel='price', ylabel='Count'>"
      ]
     },
     "execution_count": 133,
     "metadata": {},
     "output_type": "execute_result"
    },
    {
     "data": {
      "image/png": "[encoded data removed]",
      "text/plain": [
       "<Figure size 432x288 with 1 Axes>"
      ]
     },
     "metadata": {
      "needs_background": "light"
     },
     "output_type": "display_data"
    }
   ],
   "source": [
    "sns.histplot(df.price,bins=50,color='violet')"
   ]
  },
  {
   "cell_type": "code",
   "execution_count": 134,
   "id": "9675e5c9",
   "metadata": {
    "scrolled": true
   },
   "outputs": [
    {
     "data": {
      "text/plain": [
       "id                                    0\n",
       "name                                 16\n",
       "host_id                               0\n",
       "host_name                            21\n",
       "neighbourhood_group                   0\n",
       "neighbourhood                         0\n",
       "latitude                              0\n",
       "longitude                             0\n",
       "room_type                             0\n",
       "price                                 0\n",
       "minimum_nights                        0\n",
       "number_of_reviews                     0\n",
       "last_review                       10052\n",
       "reviews_per_month                 10052\n",
       "calculated_host_listings_count        0\n",
       "availability_365                      0\n",
       "dtype: int64"
      ]
     },
     "execution_count": 134,
     "metadata": {},
     "output_type": "execute_result"
    }
   ],
   "source": [
    "df.isnull().sum()"
   ]
  },
  {
   "cell_type": "code",
   "execution_count": null,
   "id": "c2ff5681",
   "metadata": {},
   "outputs": [],
   "source": []
  },
  {
   "cell_type": "markdown",
   "id": "b6f48554",
   "metadata": {},
   "source": [
    "##  Linear regression"
   ]
  },
  {
   "cell_type": "code",
   "execution_count": 135,
   "id": "95a7956a",
   "metadata": {},
   "outputs": [],
   "source": [
    "def train_linear_regression(X, y):\n",
    "    ones = np.ones(X.shape[0])\n",
    "    X = np.column_stack([ones, X])\n",
    "\n",
    "    XTX = X.T.dot(X)\n",
    "    XTX_inv = np.linalg.inv(XTX)\n",
    "    w = XTX_inv.dot(X.T).dot(y)\n",
    "    \n",
    "    return w[0], w[1:]"
   ]
  },
  {
   "cell_type": "markdown",
   "id": "cbf9947b",
   "metadata": {},
   "source": [
    "###  baseline"
   ]
  },
  {
   "cell_type": "code",
   "execution_count": 136,
   "id": "dabb511e",
   "metadata": {},
   "outputs": [],
   "source": [
    "base=['latitude',\n",
    "'longitude',\n",
    "\n",
    "'minimum_nights',\n",
    "'number_of_reviews',\n",
    "'reviews_per_month',\n",
    "'calculated_host_listings_count',\n",
    "'availability_365']"
   ]
  },
  {
   "cell_type": "code",
   "execution_count": 137,
   "id": "223526ba",
   "metadata": {},
   "outputs": [],
   "source": [
    "def prepare_X(df):\n",
    "    df_num = df[base]\n",
    "    df_num = df_num.fillna(0)\n",
    "    X = df_num.values\n",
    "    return X"
   ]
  },
  {
   "cell_type": "code",
   "execution_count": 138,
   "id": "16cfb6c6",
   "metadata": {},
   "outputs": [],
   "source": [
    "X_train = prepare_X(df_train)\n",
    "w_0, w = train_linear_regression(X_train, y_train)"
   ]
  },
  {
   "cell_type": "code",
   "execution_count": 139,
   "id": "2efbff94",
   "metadata": {},
   "outputs": [],
   "source": [
    "y_pred = w_0 + X_train.dot(w)"
   ]
  },
  {
   "cell_type": "code",
   "execution_count": 140,
   "id": "58b4161c",
   "metadata": {
    "scrolled": true
   },
   "outputs": [
    {
     "data": {
      "image/png": "[encoded data removed]",
      "text/plain": [
       "<Figure size 432x288 with 1 Axes>"
      ]
     },
     "metadata": {
      "needs_background": "light"
     },
     "output_type": "display_data"
    }
   ],
   "source": [
    "plt.figure(figsize=(6, 4))\n",
    "\n",
    "sns.histplot(y_train, label='target', color='green', alpha=0.6, bins=40)\n",
    "sns.histplot(y_pred, label='prediction', color='red', alpha=0.8, bins=40)\n",
    "\n",
    "plt.legend()\n",
    "\n",
    "plt.ylabel('Frequency')\n",
    "plt.xlabel('Log(Price + 1)')\n",
    "plt.title('Predictions vs actual distribution')\n",
    "\n",
    "plt.show()"
   ]
  },
  {
   "cell_type": "markdown",
   "id": "d31aba23",
   "metadata": {},
   "source": [
    "##  ANS->3"
   ]
  },
  {
   "cell_type": "code",
   "execution_count": 171,
   "id": "f527781e",
   "metadata": {},
   "outputs": [],
   "source": [
    "def rmse(y, y_pred):\n",
    "    error = y_pred - y\n",
    "    mse = (error ** 2).mean()\n",
    "    return np.sqrt(mse)\n"
   ]
  },
  {
   "cell_type": "code",
   "execution_count": 172,
   "id": "31cc9754",
   "metadata": {},
   "outputs": [
    {
     "data": {
      "text/plain": [
       "0.69"
      ]
     },
     "execution_count": 172,
     "metadata": {},
     "output_type": "execute_result"
    }
   ],
   "source": [
    "rmse(y_train, y_pred).round(2)"
   ]
  },
  {
   "cell_type": "code",
   "execution_count": 173,
   "id": "19a08cd1",
   "metadata": {},
   "outputs": [],
   "source": [
    "def prepare_X_mean(df):\n",
    "    df_num = df[base]\n",
    "    df_num = df_num.fillna(value=df.reviews_per_month.mean())\n",
    "    X = df_num.values\n",
    "    return X"
   ]
  },
  {
   "cell_type": "code",
   "execution_count": 174,
   "id": "988ae597",
   "metadata": {},
   "outputs": [],
   "source": [
    "X_train = prepare_X_mean(df_train)\n",
    "w_0, w = train_linear_regression(X_train, y_train)\n",
    "y_pred = w_0 + X_train.dot(w)"
   ]
  },
  {
   "cell_type": "code",
   "execution_count": 175,
   "id": "cbe8ef5e",
   "metadata": {},
   "outputs": [
    {
     "data": {
      "text/plain": [
       "0.65"
      ]
     },
     "execution_count": 175,
     "metadata": {},
     "output_type": "execute_result"
    }
   ],
   "source": [
    "\n",
    "rmse(y_train, y_pred).round(2)"
   ]
  },
  {
   "cell_type": "markdown",
   "id": "2f6047b9",
   "metadata": {},
   "source": [
    "  ### ANS 4"
   ]
  },
  {
   "cell_type": "code",
   "execution_count": 168,
   "id": "593436cb",
   "metadata": {},
   "outputs": [],
   "source": [
    "def train_linear_regression_reg(X, y, r=0.0):\n",
    "    ones = np.ones(X.shape[0])\n",
    "    X = np.column_stack([ones, X])\n",
    "\n",
    "    XTX = X.T.dot(X)\n",
    "    reg = r * np.eye(XTX.shape[0])\n",
    "    XTX = XTX + reg\n",
    "\n",
    "    XTX_inv = np.linalg.inv(XTX)\n",
    "    w = XTX_inv.dot(X.T).dot(y)\n",
    "    \n",
    "    return w[0], w[1:]"
   ]
  },
  {
   "cell_type": "code",
   "execution_count": 169,
   "id": "3a634af1",
   "metadata": {},
   "outputs": [],
   "source": [
    "X_train = prepare_X_mean(df_train)\n",
    "# w_0, w = train_linear_regression(X_train, y_train)\n"
   ]
  },
  {
   "cell_type": "code",
   "execution_count": 170,
   "id": "c6767fcc",
   "metadata": {},
   "outputs": [
    {
     "name": "stdout",
     "output_type": "stream",
     "text": [
      "0, -430.20,    0.65\n",
      "1e-06, -430.15,    0.65\n",
      "0.0001, -425.10,    0.65\n",
      "0.001, -384.11,    0.65\n",
      "0.01, -195.56,    0.66\n",
      "0.1, -33.09,    0.68\n",
      "1, -3.55,    0.68\n",
      "5, -0.71,    0.69\n",
      "10, -0.36,    0.69\n"
     ]
    }
   ],
   "source": [
    "for r in [0, 0.000001, 0.0001, 0.001, 0.01, 0.1, 1, 5, 10]:\n",
    "    w_0, w = train_linear_regression_reg(X_train, y_train, r=r)\n",
    "    y_pred = w_0 + X_train.dot(w)\n",
    "    print('%s, %.2f,    %.2f' % (r, w_0,   rmse(y_train,y_pred)))"
   ]
  },
  {
   "cell_type": "markdown",
   "id": "9afbd76a",
   "metadata": {},
   "source": [
    "### ans 5"
   ]
  },
  {
   "cell_type": "code",
   "execution_count": 158,
   "id": "15417850",
   "metadata": {},
   "outputs": [],
   "source": [
    "li=[]\n",
    "for i in range(10):\n",
    "    \n",
    "    np.random.seed(i)\n",
    "    \n",
    "    n_val=int(n*0.2)\n",
    "    n_test=int(n*0.2)\n",
    "    n_train=n-n_val-n_test\n",
    "\n",
    "    idx=np.arange(n)\n",
    "    np.random.shuffle(idx)\n",
    "    idx\n",
    "    df_shuffled=df.iloc[idx]\n",
    "    df_train = df_shuffled.iloc[:n_train].copy()\n",
    "    df_val = df_shuffled.iloc[n_train:n_train+n_val].copy()\n",
    "    df_test = df_shuffled.iloc[n_train+n_val:].copy()\n",
    "\n",
    "\n",
    "    y_train_orig = df_train.price.values\n",
    "    y_val_orig = df_val.price.values\n",
    "    y_test_orig = df_test.price.values\n",
    "\n",
    "    y_train = np.log1p(df_train.price.values)\n",
    "    y_val = np.log1p(df_val.price.values)\n",
    "    y_test = np.log1p(df_test.price.values)\n",
    "\n",
    "    del df_train['price']\n",
    "    del df_val['price']\n",
    "    del df_test['price']\n",
    "\n",
    "    \n",
    "    \n",
    "    def train_linear_regression(X, y):\n",
    "        ones = np.ones(X.shape[0])\n",
    "        X = np.column_stack([ones, X])\n",
    "\n",
    "        XTX = X.T.dot(X)\n",
    "        XTX_inv = np.linalg.inv(XTX)\n",
    "        w = XTX_inv.dot(X.T).dot(y)\n",
    "\n",
    "        return w[0], w[1:]\n",
    "    \n",
    "    def prepare_X(df):\n",
    "        df_num = df[base]\n",
    "        df_num = df_num.fillna(0)\n",
    "        X = df_num.values\n",
    "        return X\n",
    "\n",
    "    def rmse(y, y_pred):\n",
    "        error = y_pred - y\n",
    "        mse = (error ** 2).mean()\n",
    "        return np.sqrt(mse)\n",
    "   \n",
    "\n",
    "    X_train = prepare_X_mean(df_train)\n",
    "    w_0, w = train_linear_regression(X_train, y_train)\n",
    "#     y_pred = w_0 + X_train.dot(w)\n",
    "    \n",
    "    X_val = prepare_X(df_val)\n",
    "    y_pred = w_0 + X_val.dot(w)\n",
    "#      rmse(y_val, y_pred)\n",
    "\n",
    "\n",
    "    li.append(rmse(y_val, y_pred))"
   ]
  },
  {
   "cell_type": "code",
   "execution_count": 159,
   "id": "953ab704",
   "metadata": {},
   "outputs": [
    {
     "data": {
      "text/plain": [
       "[0.655232193722862,\n",
       " 0.64688220372274,\n",
       " 0.6478252669505371,\n",
       " 0.6375832292864061,\n",
       " 0.6450810069913536,\n",
       " 0.6308717085055886,\n",
       " 0.6299168310671004,\n",
       " 0.6508571308146766,\n",
       " 0.6489296512338881,\n",
       " 0.6436363670429696]"
      ]
     },
     "execution_count": 159,
     "metadata": {},
     "output_type": "execute_result"
    }
   ],
   "source": [
    "li"
   ]
  },
  {
   "cell_type": "code",
   "execution_count": 160,
   "id": "c9889728",
   "metadata": {},
   "outputs": [
    {
     "data": {
      "text/plain": [
       "0.008"
      ]
     },
     "execution_count": 160,
     "metadata": {},
     "output_type": "execute_result"
    }
   ],
   "source": [
    "np.std(li).round(3)"
   ]
  },
  {
   "cell_type": "markdown",
   "id": "997356f8",
   "metadata": {},
   "source": [
    "###  ans 6"
   ]
  },
  {
   "cell_type": "code",
   "execution_count": 167,
   "id": "623a35a6",
   "metadata": {},
   "outputs": [
    {
     "name": "stdout",
     "output_type": "stream",
     "text": [
      "0.6453578556352733\n",
      "0.6452771348684564\n"
     ]
    }
   ],
   "source": [
    "\n",
    "    \n",
    "    np.random.seed(9)\n",
    "    \n",
    "    n_val=int(n*0.2)\n",
    "    n_test=int(n*0.2)\n",
    "    n_train=n-n_val-n_test\n",
    "\n",
    "    idx=np.arange(n)\n",
    "    np.random.shuffle(idx)\n",
    "    idx\n",
    "    df_shuffled=df.iloc[idx]\n",
    "    df_train = df_shuffled.iloc[:n_train].copy()\n",
    "    df_val = df_shuffled.iloc[n_train:n_train+n_val].copy()\n",
    "    df_test = df_shuffled.iloc[n_train+n_val:].copy()\n",
    "\n",
    "\n",
    "    y_train_orig = df_train.price.values\n",
    "    y_val_orig = df_val.price.values\n",
    "    y_test_orig = df_test.price.values\n",
    "\n",
    "    y_train = np.log1p(df_train.price.values)\n",
    "    y_val = np.log1p(df_val.price.values)\n",
    "    y_test = np.log1p(df_test.price.values)\n",
    "\n",
    "    del df_train['price']\n",
    "    del df_val['price']\n",
    "    del df_test['price']\n",
    "\n",
    "    \n",
    "    \n",
    "    \n",
    "    def prepare_X(df):\n",
    "        df_num = df[base]\n",
    "        df_num = df_num.fillna(0)\n",
    "        X = df_num.values\n",
    "        return X\n",
    "\n",
    "    def rmse(y, y_pred):\n",
    "        error = y_pred - y\n",
    "        mse = (error ** 2).mean()\n",
    "        return np.sqrt(mse)\n",
    "    def train_linear_regression_reg(X,y,r=0.001):\n",
    "        u=np.ones(X.shape[0])\n",
    "        X=np.column_stack((u.T,X))\n",
    "\n",
    "        XTX=(X.T).dot(X)\n",
    "        XTX=XTX+r*np.eye(XTX.shape[0])\n",
    "\n",
    "        XTX_inv=np.linalg.inv(XTX)\n",
    "        w=XTX_inv.dot(X.T).dot(y)\n",
    "\n",
    "        return w[0],w[1:]   \n",
    "\n",
    "\n",
    "    df_full_train=pd.concat([df_train,df_val])\n",
    "    df_full_train.reset_index(drop=True)\n",
    "    \n",
    "    x_full_train=prepare_X(df_full_train)\n",
    "    \n",
    "    y_full=np.concatenate([y_train,y_val])\n",
    "    \n",
    "    w,wfull=train_linear_regression_reg(x_full_train,y_full,r=0.001)\n",
    "    \n",
    "    X_full=prepare_X(df_full_train)\n",
    "    y_pre= w+ X_full.dot(wfull)\n",
    "    \n",
    "    print(rmse(y_full,y_pre))\n",
    "    X_test=prepare_X(df_test)\n",
    "    y_pred= w+ X_test.dot(wfull)\n",
    "    print(rmse(y_test,y_pred))\n",
    "\n",
    "\n",
    "    "
   ]
  },
  {
   "cell_type": "markdown",
   "id": "b68068e6",
   "metadata": {},
   "source": [
    "# ANS->1"
   ]
  },
  {
   "cell_type": "code",
   "execution_count": 124,
   "id": "01d76a60",
   "metadata": {},
   "outputs": [
    {
     "data": {
      "text/plain": [
       "latitude                              0\n",
       "longitude                             0\n",
       "minimum_nights                        0\n",
       "number_of_reviews                     0\n",
       "reviews_per_month                 10052\n",
       "calculated_host_listings_count        0\n",
       "availability_365                      0\n",
       "dtype: int64"
      ]
     },
     "execution_count": 124,
     "metadata": {},
     "output_type": "execute_result"
    }
   ],
   "source": [
    "df[base].isna().sum()"
   ]
  },
  {
   "cell_type": "markdown",
   "id": "56c536b0",
   "metadata": {},
   "source": [
    "# ANS->2"
   ]
  },
  {
   "cell_type": "code",
   "execution_count": 125,
   "id": "01dd4bb7",
   "metadata": {},
   "outputs": [],
   "source": [
    "n=len(df)\n",
    "a=int(n*0.5)\n",
    "idx=np.arange(a)\n",
    "# np.random.shuffle(idx)\n",
    "# idx\n",
    "# df_shuffled=df.iloc[idx]\n",
    "df_shuffledd=df.iloc[idx]\n"
   ]
  },
  {
   "cell_type": "code",
   "execution_count": 126,
   "id": "c470a999",
   "metadata": {},
   "outputs": [
    {
     "data": {
      "text/plain": [
       "3.0"
      ]
     },
     "execution_count": 126,
     "metadata": {},
     "output_type": "execute_result"
    }
   ],
   "source": [
    "df_shuffledd.minimum_nights.median()"
   ]
  }
 ],
 "metadata": {
  "kernelspec": {
   "display_name": "Python 3",
   "language": "python",
   "name": "python3"
  },
  "language_info": {
   "codemirror_mode": {
    "name": "ipython",
    "version": 3
   },
   "file_extension": ".py",
   "mimetype": "text/x-python",
   "name": "python",
   "nbconvert_exporter": "python",
   "pygments_lexer": "ipython3",
   "version": "3.8.8"
  }
 },
 "nbformat": 4,
 "nbformat_minor": 5
}
